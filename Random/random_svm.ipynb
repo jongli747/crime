{
 "cells": [
  {
   "cell_type": "code",
   "execution_count": 1,
   "metadata": {},
   "outputs": [],
   "source": [
    "import pandas as pd\n",
    "import matplotlib.pyplot as plt\n",
    "import numpy as np\n",
    "from sklearn import preprocessing\n",
    "from imblearn.over_sampling import SMOTE\n",
    "from sklearn.neighbors import KNeighborsClassifier\n",
    "from sklearn.model_selection import cross_val_score\n",
    "from sklearn.model_selection import train_test_split\n",
    "from sklearn.ensemble import RandomForestClassifier\n",
    "from sklearn.model_selection import GridSearchCV\n",
    "from sklearn.metrics import accuracy_score\n",
    "from sklearn.metrics import confusion_matrix\n",
    "import seaborn as sn\n",
    "from sklearn.svm import SVC\n",
    "import pickle"
   ]
  },
  {
   "cell_type": "code",
   "execution_count": 2,
   "metadata": {},
   "outputs": [
    {
     "data": {
      "text/html": [
       "<div>\n",
       "<style scoped>\n",
       "    .dataframe tbody tr th:only-of-type {\n",
       "        vertical-align: middle;\n",
       "    }\n",
       "\n",
       "    .dataframe tbody tr th {\n",
       "        vertical-align: top;\n",
       "    }\n",
       "\n",
       "    .dataframe thead th {\n",
       "        text-align: right;\n",
       "    }\n",
       "</style>\n",
       "<table border=\"1\" class=\"dataframe\">\n",
       "  <thead>\n",
       "    <tr style=\"text-align: right;\">\n",
       "      <th></th>\n",
       "      <th>Date</th>\n",
       "      <th>Category</th>\n",
       "      <th>Thana</th>\n",
       "      <th>District</th>\n",
       "      <th>DayOfWeek</th>\n",
       "      <th>Season</th>\n",
       "    </tr>\n",
       "  </thead>\n",
       "  <tbody>\n",
       "    <tr>\n",
       "      <th>0</th>\n",
       "      <td>02-03-2018</td>\n",
       "      <td>Murder</td>\n",
       "      <td>Belabo Thana</td>\n",
       "      <td>Narsingdi</td>\n",
       "      <td>Friday</td>\n",
       "      <td>Summer</td>\n",
       "    </tr>\n",
       "    <tr>\n",
       "      <th>1</th>\n",
       "      <td>29-04-2017</td>\n",
       "      <td>Gang rape</td>\n",
       "      <td>Rajoir Thana</td>\n",
       "      <td>Madaripur</td>\n",
       "      <td>Saturday</td>\n",
       "      <td>Summer</td>\n",
       "    </tr>\n",
       "    <tr>\n",
       "      <th>2</th>\n",
       "      <td>29-06-2017</td>\n",
       "      <td>Murder</td>\n",
       "      <td>Ghatail Thana</td>\n",
       "      <td>Tangail</td>\n",
       "      <td>Thursday</td>\n",
       "      <td>Summer</td>\n",
       "    </tr>\n",
       "    <tr>\n",
       "      <th>3</th>\n",
       "      <td>01-07-2017</td>\n",
       "      <td>Murder</td>\n",
       "      <td>Keraniganj Model Thana</td>\n",
       "      <td>Dhaka</td>\n",
       "      <td>Saturday</td>\n",
       "      <td>Rainy</td>\n",
       "    </tr>\n",
       "    <tr>\n",
       "      <th>4</th>\n",
       "      <td>25-12-2017</td>\n",
       "      <td>Murder</td>\n",
       "      <td>Manikganj Thana</td>\n",
       "      <td>Manikganj</td>\n",
       "      <td>Monday</td>\n",
       "      <td>Winter</td>\n",
       "    </tr>\n",
       "  </tbody>\n",
       "</table>\n",
       "</div>"
      ],
      "text/plain": [
       "         Date   Category                   Thana   District DayOfWeek  Season\n",
       "0  02-03-2018     Murder            Belabo Thana  Narsingdi    Friday  Summer\n",
       "1  29-04-2017  Gang rape            Rajoir Thana  Madaripur  Saturday  Summer\n",
       "2  29-06-2017     Murder           Ghatail Thana    Tangail  Thursday  Summer\n",
       "3  01-07-2017     Murder  Keraniganj Model Thana      Dhaka  Saturday   Rainy\n",
       "4  25-12-2017     Murder         Manikganj Thana  Manikganj    Monday  Winter"
      ]
     },
     "execution_count": 2,
     "metadata": {},
     "output_type": "execute_result"
    }
   ],
   "source": [
    "df = pd.read_csv('/home/jongli/Dropbox/project/NBM/Crime_data.csv')\n",
    "df.head()"
   ]
  },
  {
   "cell_type": "code",
   "execution_count": 3,
   "metadata": {},
   "outputs": [
    {
     "data": {
      "text/html": [
       "<div>\n",
       "<style scoped>\n",
       "    .dataframe tbody tr th:only-of-type {\n",
       "        vertical-align: middle;\n",
       "    }\n",
       "\n",
       "    .dataframe tbody tr th {\n",
       "        vertical-align: top;\n",
       "    }\n",
       "\n",
       "    .dataframe thead th {\n",
       "        text-align: right;\n",
       "    }\n",
       "</style>\n",
       "<table border=\"1\" class=\"dataframe\">\n",
       "  <thead>\n",
       "    <tr style=\"text-align: right;\">\n",
       "      <th></th>\n",
       "      <th>Date</th>\n",
       "      <th>Category</th>\n",
       "      <th>Thana</th>\n",
       "      <th>District</th>\n",
       "      <th>DayOfWeek</th>\n",
       "      <th>Season</th>\n",
       "      <th>Month</th>\n",
       "    </tr>\n",
       "  </thead>\n",
       "  <tbody>\n",
       "    <tr>\n",
       "      <th>0</th>\n",
       "      <td>02-03-2018</td>\n",
       "      <td>Murder</td>\n",
       "      <td>Belabo Thana</td>\n",
       "      <td>Narsingdi</td>\n",
       "      <td>Friday</td>\n",
       "      <td>Summer</td>\n",
       "      <td>3</td>\n",
       "    </tr>\n",
       "    <tr>\n",
       "      <th>1</th>\n",
       "      <td>29-04-2017</td>\n",
       "      <td>Gang rape</td>\n",
       "      <td>Rajoir Thana</td>\n",
       "      <td>Madaripur</td>\n",
       "      <td>Saturday</td>\n",
       "      <td>Summer</td>\n",
       "      <td>4</td>\n",
       "    </tr>\n",
       "    <tr>\n",
       "      <th>2</th>\n",
       "      <td>29-06-2017</td>\n",
       "      <td>Murder</td>\n",
       "      <td>Ghatail Thana</td>\n",
       "      <td>Tangail</td>\n",
       "      <td>Thursday</td>\n",
       "      <td>Summer</td>\n",
       "      <td>6</td>\n",
       "    </tr>\n",
       "    <tr>\n",
       "      <th>3</th>\n",
       "      <td>01-07-2017</td>\n",
       "      <td>Murder</td>\n",
       "      <td>Keraniganj Model Thana</td>\n",
       "      <td>Dhaka</td>\n",
       "      <td>Saturday</td>\n",
       "      <td>Rainy</td>\n",
       "      <td>7</td>\n",
       "    </tr>\n",
       "    <tr>\n",
       "      <th>4</th>\n",
       "      <td>25-12-2017</td>\n",
       "      <td>Murder</td>\n",
       "      <td>Manikganj Thana</td>\n",
       "      <td>Manikganj</td>\n",
       "      <td>Monday</td>\n",
       "      <td>Winter</td>\n",
       "      <td>12</td>\n",
       "    </tr>\n",
       "  </tbody>\n",
       "</table>\n",
       "</div>"
      ],
      "text/plain": [
       "         Date   Category                   Thana   District DayOfWeek  Season  \\\n",
       "0  02-03-2018     Murder            Belabo Thana  Narsingdi    Friday  Summer   \n",
       "1  29-04-2017  Gang rape            Rajoir Thana  Madaripur  Saturday  Summer   \n",
       "2  29-06-2017     Murder           Ghatail Thana    Tangail  Thursday  Summer   \n",
       "3  01-07-2017     Murder  Keraniganj Model Thana      Dhaka  Saturday   Rainy   \n",
       "4  25-12-2017     Murder         Manikganj Thana  Manikganj    Monday  Winter   \n",
       "\n",
       "   Month  \n",
       "0      3  \n",
       "1      4  \n",
       "2      6  \n",
       "3      7  \n",
       "4     12  "
      ]
     },
     "execution_count": 3,
     "metadata": {},
     "output_type": "execute_result"
    }
   ],
   "source": [
    "df['Month'] = df['Date'].apply(lambda x: int(str(x)[3:5]))\n",
    "df.head()"
   ]
  },
  {
   "cell_type": "code",
   "execution_count": 4,
   "metadata": {},
   "outputs": [],
   "source": [
    "y = df.iloc[:,1]\n",
    "x = df.drop(df.columns[[0,1]], axis = 1)\n"
   ]
  },
  {
   "cell_type": "code",
   "execution_count": 5,
   "metadata": {},
   "outputs": [
    {
     "data": {
      "text/html": [
       "<div>\n",
       "<style scoped>\n",
       "    .dataframe tbody tr th:only-of-type {\n",
       "        vertical-align: middle;\n",
       "    }\n",
       "\n",
       "    .dataframe tbody tr th {\n",
       "        vertical-align: top;\n",
       "    }\n",
       "\n",
       "    .dataframe thead th {\n",
       "        text-align: right;\n",
       "    }\n",
       "</style>\n",
       "<table border=\"1\" class=\"dataframe\">\n",
       "  <thead>\n",
       "    <tr style=\"text-align: right;\">\n",
       "      <th></th>\n",
       "      <th>Thana</th>\n",
       "      <th>District</th>\n",
       "      <th>DayOfWeek</th>\n",
       "      <th>Season</th>\n",
       "      <th>Month</th>\n",
       "    </tr>\n",
       "  </thead>\n",
       "  <tbody>\n",
       "    <tr>\n",
       "      <th>0</th>\n",
       "      <td>Belabo Thana</td>\n",
       "      <td>Narsingdi</td>\n",
       "      <td>Friday</td>\n",
       "      <td>Summer</td>\n",
       "      <td>3</td>\n",
       "    </tr>\n",
       "    <tr>\n",
       "      <th>1</th>\n",
       "      <td>Rajoir Thana</td>\n",
       "      <td>Madaripur</td>\n",
       "      <td>Saturday</td>\n",
       "      <td>Summer</td>\n",
       "      <td>4</td>\n",
       "    </tr>\n",
       "    <tr>\n",
       "      <th>2</th>\n",
       "      <td>Ghatail Thana</td>\n",
       "      <td>Tangail</td>\n",
       "      <td>Thursday</td>\n",
       "      <td>Summer</td>\n",
       "      <td>6</td>\n",
       "    </tr>\n",
       "    <tr>\n",
       "      <th>3</th>\n",
       "      <td>Keraniganj Model Thana</td>\n",
       "      <td>Dhaka</td>\n",
       "      <td>Saturday</td>\n",
       "      <td>Rainy</td>\n",
       "      <td>7</td>\n",
       "    </tr>\n",
       "    <tr>\n",
       "      <th>4</th>\n",
       "      <td>Manikganj Thana</td>\n",
       "      <td>Manikganj</td>\n",
       "      <td>Monday</td>\n",
       "      <td>Winter</td>\n",
       "      <td>12</td>\n",
       "    </tr>\n",
       "  </tbody>\n",
       "</table>\n",
       "</div>"
      ],
      "text/plain": [
       "                    Thana   District DayOfWeek  Season  Month\n",
       "0            Belabo Thana  Narsingdi    Friday  Summer      3\n",
       "1            Rajoir Thana  Madaripur  Saturday  Summer      4\n",
       "2           Ghatail Thana    Tangail  Thursday  Summer      6\n",
       "3  Keraniganj Model Thana      Dhaka  Saturday   Rainy      7\n",
       "4         Manikganj Thana  Manikganj    Monday  Winter     12"
      ]
     },
     "execution_count": 5,
     "metadata": {},
     "output_type": "execute_result"
    }
   ],
   "source": [
    "x.head()"
   ]
  },
  {
   "cell_type": "code",
   "execution_count": 6,
   "metadata": {},
   "outputs": [
    {
     "data": {
      "text/plain": [
       "0       Murder\n",
       "1    Gang rape\n",
       "2       Murder\n",
       "3       Murder\n",
       "4       Murder\n",
       "Name: Category, dtype: object"
      ]
     },
     "execution_count": 6,
     "metadata": {},
     "output_type": "execute_result"
    }
   ],
   "source": [
    "y.head()\n"
   ]
  },
  {
   "cell_type": "code",
   "execution_count": 7,
   "metadata": {},
   "outputs": [
    {
     "data": {
      "text/html": [
       "<div>\n",
       "<style scoped>\n",
       "    .dataframe tbody tr th:only-of-type {\n",
       "        vertical-align: middle;\n",
       "    }\n",
       "\n",
       "    .dataframe tbody tr th {\n",
       "        vertical-align: top;\n",
       "    }\n",
       "\n",
       "    .dataframe thead th {\n",
       "        text-align: right;\n",
       "    }\n",
       "</style>\n",
       "<table border=\"1\" class=\"dataframe\">\n",
       "  <thead>\n",
       "    <tr style=\"text-align: right;\">\n",
       "      <th></th>\n",
       "      <th>Thana</th>\n",
       "      <th>District</th>\n",
       "      <th>DayOfWeek</th>\n",
       "      <th>Month</th>\n",
       "    </tr>\n",
       "  </thead>\n",
       "  <tbody>\n",
       "    <tr>\n",
       "      <th>0</th>\n",
       "      <td>Belabo Thana</td>\n",
       "      <td>Narsingdi</td>\n",
       "      <td>Friday</td>\n",
       "      <td>3</td>\n",
       "    </tr>\n",
       "    <tr>\n",
       "      <th>1</th>\n",
       "      <td>Rajoir Thana</td>\n",
       "      <td>Madaripur</td>\n",
       "      <td>Saturday</td>\n",
       "      <td>4</td>\n",
       "    </tr>\n",
       "    <tr>\n",
       "      <th>2</th>\n",
       "      <td>Ghatail Thana</td>\n",
       "      <td>Tangail</td>\n",
       "      <td>Thursday</td>\n",
       "      <td>6</td>\n",
       "    </tr>\n",
       "    <tr>\n",
       "      <th>3</th>\n",
       "      <td>Keraniganj Model Thana</td>\n",
       "      <td>Dhaka</td>\n",
       "      <td>Saturday</td>\n",
       "      <td>7</td>\n",
       "    </tr>\n",
       "    <tr>\n",
       "      <th>4</th>\n",
       "      <td>Manikganj Thana</td>\n",
       "      <td>Manikganj</td>\n",
       "      <td>Monday</td>\n",
       "      <td>12</td>\n",
       "    </tr>\n",
       "  </tbody>\n",
       "</table>\n",
       "</div>"
      ],
      "text/plain": [
       "                    Thana   District DayOfWeek  Month\n",
       "0            Belabo Thana  Narsingdi    Friday      3\n",
       "1            Rajoir Thana  Madaripur  Saturday      4\n",
       "2           Ghatail Thana    Tangail  Thursday      6\n",
       "3  Keraniganj Model Thana      Dhaka  Saturday      7\n",
       "4         Manikganj Thana  Manikganj    Monday     12"
      ]
     },
     "execution_count": 7,
     "metadata": {},
     "output_type": "execute_result"
    }
   ],
   "source": [
    "x = x.drop(x.columns[[3]], axis = 1)\n",
    "x.head()"
   ]
  },
  {
   "cell_type": "code",
   "execution_count": 8,
   "metadata": {},
   "outputs": [
    {
     "name": "stdout",
     "output_type": "stream",
     "text": [
      "{'Alfadanga Thana': 0, 'Araihazar Thana': 1, 'Ashulia Thana': 2, 'Austagram Thana': 3, 'Bajitpur Thana': 4, 'Baliakandi Thana': 5, 'Bangabandhu Setu East Thana': 6, 'Basail Thana': 7, 'Belabo Thana': 8, 'Bhairab Thana': 9, 'Bhanga Thana': 10, 'Bhedarganj Thana': 11, 'Bhuapur Thana': 12, 'Boalmari Thana': 13, 'Bondor Thana': 14, 'Charbhadrasan Thana': 15, 'Damudya Thana': 16, 'Dasar Thana': 17, 'Daulatpur Thana': 18, 'Delduar Thana': 19, 'Dhamrai Thana': 20, 'Dhanbari Thana': 21, 'Dohar Thana': 22, 'Faridpur Thana': 23, 'Fatullah Model Thana': 24, 'Gazaria Thana': 25, 'Ghatail Thana': 26, 'Ghior Thana': 27, 'Goalandaghat Thana': 28, 'Gopalganj Thana': 29, 'Gopalpur Thana': 30, 'Goshairhat Thana': 31, 'Harirampur Thana': 32, 'Hossainpur Thana': 33, 'Itna Thana': 34, 'Joydebpur Thana': 35, 'Kaliakair Thana': 36, 'Kaliganj Thana': 37, 'Kalihati Thana': 38, 'Kalkini Thana': 39, 'Kalukhali Thana': 40, 'Kapasia Thana': 41, 'Karimganj Thana': 42, 'Kashiani Thana': 43, 'Katiadi Model Thana': 44, 'Keraniganj Model Thana': 45, 'Kishoreganj Model Thana': 46, 'Kotalipara Thana': 47, 'Kotwali Thana': 48, 'Kuliarchar Thana': 49, 'Louhajong Thana': 50, 'Madaripur Thana': 51, 'Madhabdi Thana': 52, 'Madhukhali Thana': 53, 'Madhupur Thana': 54, 'Manikganj Thana': 55, 'Mirzapur Thana': 56, 'Mithamain Thana': 57, 'Monohardi Thana': 58, 'Muksudpur Thana': 59, 'Munshiganj Thana': 60, 'Nagarkanda Model Thana': 61, 'Nagarpur Thana': 62, 'Narayanganj Model Thana': 63, 'Naria Thana': 64, 'Narsingdi Model Thana': 65, 'Narsingdi Thana': 66, 'Nawabganj Thana': 67, 'Nikli Thana': 68, 'Pakundia Thana': 69, 'Palash Thana': 70, 'Palong Model Thana': 71, 'Pangsha Model Thana': 72, 'Raipura Thana': 73, 'Rajbari Thana': 74, 'Rajoir Thana': 75, 'Rupganj Thana': 76, 'Sadarpur Thana': 77, 'Sakhipur Thana': 78, 'Saltha Thana': 79, 'Saturia Thana': 80, 'Savar Model Thana': 81, 'Shibaloy Thana': 82, 'Shibchar Thana': 83, 'Shibpur Model Thana': 84, 'Siddhirganj Thana': 85, 'Singair Thana': 86, 'Sirajdikhan Thana': 87, 'Sonargaon Thana': 88, 'South Keraniganj Thana': 89, 'Sreenagar Thana': 90, 'Sreepur Thana': 91, 'Tangail Thana': 92, 'Tarail Thana': 93, 'Tongi Thana': 94, 'Tongibari Thana': 95, 'Tungipara Thana': 96, 'Zajira Thana': 97}\n"
     ]
    }
   ],
   "source": [
    "le = preprocessing.LabelEncoder()\n",
    "x['Thana'] = le.fit_transform(x['Thana'])\n",
    "\n",
    "thana_mapping = dict(zip(le.classes_, le.transform(le.classes_)))\n",
    "print(thana_mapping)"
   ]
  },
  {
   "cell_type": "code",
   "execution_count": 9,
   "metadata": {},
   "outputs": [
    {
     "name": "stdout",
     "output_type": "stream",
     "text": [
      "{'Dhaka': 0, 'Faridpur': 1, 'Gazipur': 2, 'Gopalganj': 3, 'Kishoreganj': 4, 'Madaripur': 5, 'Manikganj': 6, 'Munshiganj': 7, 'Narayanganj': 8, 'Narsingdi': 9, 'Rajbari': 10, 'Shariatpur': 11, 'Tangail': 12}\n"
     ]
    }
   ],
   "source": [
    "x['District'] = le.fit_transform(x['District'])\n",
    "\n",
    "district_mapping = dict(zip(le.classes_, le.transform(le.classes_)))\n",
    "print(district_mapping)\n"
   ]
  },
  {
   "cell_type": "code",
   "execution_count": 10,
   "metadata": {},
   "outputs": [
    {
     "name": "stdout",
     "output_type": "stream",
     "text": [
      "{'Friday': 0, 'Monday': 1, 'Saturday': 2, 'Sunday': 3, 'Thursday': 4, 'Tuesday': 5, 'Wednesday': 6}\n"
     ]
    }
   ],
   "source": [
    "x['DayOfWeek'] = le.fit_transform(x['DayOfWeek'])\n",
    "week_mapping = dict(zip(le.classes_, le.transform(le.classes_)))\n",
    "print(week_mapping)"
   ]
  },
  {
   "cell_type": "code",
   "execution_count": 11,
   "metadata": {},
   "outputs": [
    {
     "data": {
      "text/html": [
       "<div>\n",
       "<style scoped>\n",
       "    .dataframe tbody tr th:only-of-type {\n",
       "        vertical-align: middle;\n",
       "    }\n",
       "\n",
       "    .dataframe tbody tr th {\n",
       "        vertical-align: top;\n",
       "    }\n",
       "\n",
       "    .dataframe thead th {\n",
       "        text-align: right;\n",
       "    }\n",
       "</style>\n",
       "<table border=\"1\" class=\"dataframe\">\n",
       "  <thead>\n",
       "    <tr style=\"text-align: right;\">\n",
       "      <th></th>\n",
       "      <th>Thana</th>\n",
       "      <th>District</th>\n",
       "      <th>DayOfWeek</th>\n",
       "      <th>Month</th>\n",
       "    </tr>\n",
       "  </thead>\n",
       "  <tbody>\n",
       "    <tr>\n",
       "      <th>0</th>\n",
       "      <td>8</td>\n",
       "      <td>9</td>\n",
       "      <td>0</td>\n",
       "      <td>3</td>\n",
       "    </tr>\n",
       "    <tr>\n",
       "      <th>1</th>\n",
       "      <td>75</td>\n",
       "      <td>5</td>\n",
       "      <td>2</td>\n",
       "      <td>4</td>\n",
       "    </tr>\n",
       "    <tr>\n",
       "      <th>2</th>\n",
       "      <td>26</td>\n",
       "      <td>12</td>\n",
       "      <td>4</td>\n",
       "      <td>6</td>\n",
       "    </tr>\n",
       "    <tr>\n",
       "      <th>3</th>\n",
       "      <td>45</td>\n",
       "      <td>0</td>\n",
       "      <td>2</td>\n",
       "      <td>7</td>\n",
       "    </tr>\n",
       "    <tr>\n",
       "      <th>4</th>\n",
       "      <td>55</td>\n",
       "      <td>6</td>\n",
       "      <td>1</td>\n",
       "      <td>12</td>\n",
       "    </tr>\n",
       "  </tbody>\n",
       "</table>\n",
       "</div>"
      ],
      "text/plain": [
       "   Thana  District  DayOfWeek  Month\n",
       "0      8         9          0      3\n",
       "1     75         5          2      4\n",
       "2     26        12          4      6\n",
       "3     45         0          2      7\n",
       "4     55         6          1     12"
      ]
     },
     "execution_count": 11,
     "metadata": {},
     "output_type": "execute_result"
    }
   ],
   "source": [
    "x.head()"
   ]
  },
  {
   "cell_type": "code",
   "execution_count": 12,
   "metadata": {},
   "outputs": [
    {
     "data": {
      "text/plain": [
       "(1448, 4)"
      ]
     },
     "execution_count": 12,
     "metadata": {},
     "output_type": "execute_result"
    }
   ],
   "source": [
    "x_np = np.array(x)\n",
    "x_np.shape"
   ]
  },
  {
   "cell_type": "code",
   "execution_count": 13,
   "metadata": {},
   "outputs": [
    {
     "data": {
      "text/plain": [
       "0       Murder\n",
       "1    Gang rape\n",
       "2       Murder\n",
       "3       Murder\n",
       "4       Murder\n",
       "Name: Category, dtype: object"
      ]
     },
     "execution_count": 13,
     "metadata": {},
     "output_type": "execute_result"
    }
   ],
   "source": [
    "y.head()"
   ]
  },
  {
   "cell_type": "code",
   "execution_count": 14,
   "metadata": {},
   "outputs": [
    {
     "data": {
      "text/plain": [
       "(1448, 1)"
      ]
     },
     "execution_count": 14,
     "metadata": {},
     "output_type": "execute_result"
    }
   ],
   "source": [
    "y_np = np.array(y)\n",
    "y_np.shape\n",
    "y_np = y_np.reshape(-1,1)# reshaping from (1448,) to (1448,1)\n",
    "y_np.shape"
   ]
  },
  {
   "cell_type": "code",
   "execution_count": 15,
   "metadata": {},
   "outputs": [
    {
     "data": {
      "text/plain": [
       "array([['Murder'],\n",
       "       ['Gang rape'],\n",
       "       ['Murder'],\n",
       "       ['Murder'],\n",
       "       ['Murder'],\n",
       "       ['Robbery'],\n",
       "       ['Murder'],\n",
       "       ['Murder'],\n",
       "       ['Murder'],\n",
       "       ['Murder']], dtype=object)"
      ]
     },
     "execution_count": 15,
     "metadata": {},
     "output_type": "execute_result"
    }
   ],
   "source": [
    "y_np[:10]"
   ]
  },
  {
   "cell_type": "code",
   "execution_count": 16,
   "metadata": {},
   "outputs": [
    {
     "name": "stderr",
     "output_type": "stream",
     "text": [
      "/home/jongli/anaconda3/envs/crime/lib/python3.6/site-packages/sklearn/preprocessing/label.py:235: DataConversionWarning: A column-vector y was passed when a 1d array was expected. Please change the shape of y to (n_samples, ), for example using ravel().\n",
      "  y = column_or_1d(y, warn=True)\n"
     ]
    },
    {
     "data": {
      "text/plain": [
       "(1448,)"
      ]
     },
     "execution_count": 16,
     "metadata": {},
     "output_type": "execute_result"
    }
   ],
   "source": [
    "y_le = le.fit_transform(y_np)#converting categorical label with label encoder\n",
    "y_le.shape"
   ]
  },
  {
   "cell_type": "code",
   "execution_count": 17,
   "metadata": {},
   "outputs": [
    {
     "data": {
      "text/plain": [
       "array([[2],\n",
       "       [0],\n",
       "       [2],\n",
       "       [2],\n",
       "       [2],\n",
       "       [3],\n",
       "       [2],\n",
       "       [2],\n",
       "       [2],\n",
       "       [2]])"
      ]
     },
     "execution_count": 17,
     "metadata": {},
     "output_type": "execute_result"
    }
   ],
   "source": [
    "y_le = y_le.reshape(-1,1)#reshaping from (1448,) to (1448,1)\n",
    "y_le[:10]"
   ]
  },
  {
   "cell_type": "code",
   "execution_count": 18,
   "metadata": {},
   "outputs": [
    {
     "data": {
      "text/plain": [
       "{0: 107, 1: 101, 2: 882, 3: 229, 4: 129}"
      ]
     },
     "execution_count": 18,
     "metadata": {},
     "output_type": "execute_result"
    }
   ],
   "source": [
    "unique, counts = np.unique(y_le, return_counts=True)\n",
    "dict(zip(unique, counts))"
   ]
  },
  {
   "cell_type": "code",
   "execution_count": 19,
   "metadata": {},
   "outputs": [
    {
     "data": {
      "text/plain": [
       "((1448, 4), (1448, 1))"
      ]
     },
     "execution_count": 19,
     "metadata": {},
     "output_type": "execute_result"
    }
   ],
   "source": [
    "x_np.shape, y_le.shape"
   ]
  },
  {
   "cell_type": "code",
   "execution_count": 20,
   "metadata": {},
   "outputs": [
    {
     "name": "stderr",
     "output_type": "stream",
     "text": [
      "/home/jongli/anaconda3/envs/crime/lib/python3.6/site-packages/sklearn/utils/validation.py:761: DataConversionWarning: A column-vector y was passed when a 1d array was expected. Please change the shape of y to (n_samples, ), for example using ravel().\n",
      "  y = column_or_1d(y, warn=True)\n"
     ]
    }
   ],
   "source": [
    "from imblearn.over_sampling import RandomOverSampler\n",
    "ros = RandomOverSampler(random_state = 42)\n",
    "x_ros, y_ros = ros.fit_sample(x_np, y_le)"
   ]
  },
  {
   "cell_type": "code",
   "execution_count": 21,
   "metadata": {},
   "outputs": [
    {
     "data": {
      "text/plain": [
       "((4410, 4), (4410,))"
      ]
     },
     "execution_count": 21,
     "metadata": {},
     "output_type": "execute_result"
    }
   ],
   "source": [
    "x_ros.shape, y_ros.shape"
   ]
  },
  {
   "cell_type": "code",
   "execution_count": 22,
   "metadata": {},
   "outputs": [
    {
     "data": {
      "text/plain": [
       "{0: 882, 1: 882, 2: 882, 3: 882, 4: 882}"
      ]
     },
     "execution_count": 22,
     "metadata": {},
     "output_type": "execute_result"
    }
   ],
   "source": [
    "unique, counts = np.unique(y_ros, return_counts=True)\n",
    "dict(zip(unique, counts))"
   ]
  },
  {
   "cell_type": "code",
   "execution_count": 23,
   "metadata": {},
   "outputs": [
    {
     "name": "stdout",
     "output_type": "stream",
     "text": [
      "(4410, 1)\n"
     ]
    }
   ],
   "source": [
    "y_ros_reshape = y_ros.reshape(-1,1)#reshaping from (1448,) to (1448,1)\n",
    "y_le[:10]\n",
    "print(y_ros_reshape.shape)"
   ]
  },
  {
   "cell_type": "code",
   "execution_count": 24,
   "metadata": {},
   "outputs": [
    {
     "name": "stderr",
     "output_type": "stream",
     "text": [
      "/home/jongli/anaconda3/envs/crime/lib/python3.6/site-packages/sklearn/preprocessing/_encoders.py:371: FutureWarning: The handling of integer data will change in version 0.22. Currently, the categories are determined based on the range [0, max(values)], while in the future they will be determined based on the unique values.\n",
      "If you want the future behaviour and silence this warning, you can specify \"categories='auto'\".\n",
      "In case you used a LabelEncoder before this OneHotEncoder to convert the categories to integers, then you can now use the OneHotEncoder directly.\n",
      "  warnings.warn(msg, FutureWarning)\n"
     ]
    },
    {
     "data": {
      "text/plain": [
       "(4410, 5)"
      ]
     },
     "execution_count": 24,
     "metadata": {},
     "output_type": "execute_result"
    }
   ],
   "source": [
    "ohe = preprocessing.OneHotEncoder(sparse = False)\n",
    "y_ros_ohe = ohe.fit_transform(y_ros_reshape)# converting label encoder to one hot encoding \n",
    "y_ros_ohe.shape"
   ]
  },
  {
   "cell_type": "code",
   "execution_count": 25,
   "metadata": {},
   "outputs": [
    {
     "data": {
      "text/plain": [
       "((4410, 4), (4410, 5))"
      ]
     },
     "execution_count": 25,
     "metadata": {},
     "output_type": "execute_result"
    }
   ],
   "source": [
    "x_ros.shape, y_ros_ohe.shape"
   ]
  },
  {
   "cell_type": "code",
   "execution_count": 26,
   "metadata": {},
   "outputs": [
    {
     "data": {
      "text/plain": [
       "((3969, 4), (441, 4), (3969, 5), (441, 5))"
      ]
     },
     "execution_count": 26,
     "metadata": {},
     "output_type": "execute_result"
    }
   ],
   "source": [
    "x_train, x_test, y_train, y_test = train_test_split(x_ros, y_ros_ohe, test_size=0.1, random_state=42, shuffle = True)\n",
    "x_train.shape, x_test.shape, y_train.shape, y_test.shape"
   ]
  },
  {
   "cell_type": "code",
   "execution_count": 27,
   "metadata": {},
   "outputs": [],
   "source": [
    "# svc = SVC()\n",
    " \n",
    "# param_grid = { \n",
    "#            \"kernel\" : ['rbf'],\n",
    "#            \"gamma\" : [1,0.01,0.001],\n",
    "#            \"C\" : [100,200,300,500]\n",
    "# }\n",
    " \n",
    "# CV_svc = GridSearchCV(estimator=svc, param_grid=param_grid, cv= 10)\n",
    "# CV_svc.fit(x_train, y_train.argmax(axis = 1))\n",
    "# print (CV_svc.best_params_)"
   ]
  },
  {
   "cell_type": "code",
   "execution_count": 28,
   "metadata": {},
   "outputs": [
    {
     "name": "stdout",
     "output_type": "stream",
     "text": [
      "0.9357312148801906\n"
     ]
    }
   ],
   "source": [
    "svc = SVC(kernel = 'rbf', C = 100, gamma = 1)\n",
    "scores = cross_val_score(svc, x_train, y_train.argmax(axis = 1), cv = 10, scoring = 'accuracy')\n",
    "print(scores.mean())"
   ]
  },
  {
   "cell_type": "code",
   "execution_count": 29,
   "metadata": {},
   "outputs": [],
   "source": [
    "svm_clf = SVC(kernel = 'rbf', C = 100, gamma = 1)\n",
    "svm_clf.fit(x_train, y_train.argmax(axis = 1))\n",
    "\n",
    "# save the model to disk\n",
    "filename = './model/random_svm.sav'\n",
    "pickle.dump(svm_clf, open(filename, 'wb'))"
   ]
  },
  {
   "cell_type": "code",
   "execution_count": 30,
   "metadata": {},
   "outputs": [
    {
     "data": {
      "text/plain": [
       "(441,)"
      ]
     },
     "execution_count": 30,
     "metadata": {},
     "output_type": "execute_result"
    }
   ],
   "source": [
    "svm_pred = svm_clf.predict(x_test)\n",
    "svm_pred.shape"
   ]
  },
  {
   "cell_type": "code",
   "execution_count": 31,
   "metadata": {},
   "outputs": [],
   "source": [
    "# ohe = preprocessing.OneHotEncoder(sparse = False)\n",
    "# y_test = ohe.fit_transform(y_test)# converting label encoder to one hot encoding \n",
    "# y_test.shape\n"
   ]
  },
  {
   "cell_type": "code",
   "execution_count": 32,
   "metadata": {},
   "outputs": [
    {
     "data": {
      "text/plain": [
       "(0.9629629629629629, 0.9478458049886621)"
      ]
     },
     "execution_count": 32,
     "metadata": {},
     "output_type": "execute_result"
    }
   ],
   "source": [
    "from sklearn.metrics import accuracy_score\n",
    "from sklearn.metrics import confusion_matrix\n",
    "svm_train = accuracy_score(y_train.argmax(axis = 1), svm_clf.predict(x_train))\n",
    "svm_test = accuracy_score(y_test.argmax(axis = 1), svm_pred)\n",
    "svm_train, svm_test"
   ]
  },
  {
   "cell_type": "code",
   "execution_count": 33,
   "metadata": {},
   "outputs": [
    {
     "data": {
      "text/plain": [
       "array([[87,  4,  0,  2,  0],\n",
       "       [ 0, 85,  0,  0,  0],\n",
       "       [ 2,  2, 81,  5,  4],\n",
       "       [ 1,  2,  1, 80,  0],\n",
       "       [ 0,  0,  0,  0, 85]])"
      ]
     },
     "execution_count": 33,
     "metadata": {},
     "output_type": "execute_result"
    }
   ],
   "source": [
    "from sklearn.metrics import confusion_matrix\n",
    "svm_cm = confusion_matrix(y_test.argmax(axis = 1), svm_pred)\n",
    "svm_cm"
   ]
  },
  {
   "cell_type": "code",
   "execution_count": 34,
   "metadata": {},
   "outputs": [
    {
     "data": {
      "text/plain": [
       "<matplotlib.axes._subplots.AxesSubplot at 0x7f6a96c2ba20>"
      ]
     },
     "execution_count": 34,
     "metadata": {},
     "output_type": "execute_result"
    },
    {
     "data": {
      "image/png": "[encoded data removed]",
      "text/plain": [
       "<Figure size 432x288 with 2 Axes>"
      ]
     },
     "metadata": {},
     "output_type": "display_data"
    }
   ],
   "source": [
    "import seaborn as sn\n",
    "import pandas as pd\n",
    "import matplotlib.pyplot as plt \n",
    "df_cm = pd.DataFrame(svm_cm, range(5),\n",
    "                  range(5))\n",
    "#plt.figure(figsize = (10,7))\n",
    "sn.set(font_scale=1.4)#for label size\n",
    "sn.heatmap(df_cm, annot=True,annot_kws={\"size\": 16})# font size"
   ]
  },
  {
   "cell_type": "code",
   "execution_count": 35,
   "metadata": {},
   "outputs": [
    {
     "name": "stdout",
     "output_type": "stream",
     "text": [
      "END\n"
     ]
    }
   ],
   "source": [
    "print(\"END\")"
   ]
  },
  {
   "cell_type": "code",
   "execution_count": null,
   "metadata": {},
   "outputs": [],
   "source": []
  }
 ],
 "metadata": {
  "kernelspec": {
   "display_name": "Python 3",
   "language": "python",
   "name": "python3"
  },
  "language_info": {
   "codemirror_mode": {
    "name": "ipython",
    "version": 3
   },
   "file_extension": ".py",
   "mimetype": "text/x-python",
   "name": "python",
   "nbconvert_exporter": "python",
   "pygments_lexer": "ipython3",
   "version": "3.6.8"
  }
 },
 "nbformat": 4,
 "nbformat_minor": 2
}
