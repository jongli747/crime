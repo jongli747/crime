{
 "cells": [
  {
   "cell_type": "code",
   "execution_count": 1,
   "metadata": {},
   "outputs": [],
   "source": [
    "import pandas as pd\n",
    "import matplotlib.pyplot as plt\n",
    "import numpy as np\n",
    "from sklearn import preprocessing\n",
    "from imblearn.over_sampling import SMOTE\n",
    "from sklearn.neighbors import KNeighborsClassifier\n",
    "from sklearn.model_selection import cross_val_score\n",
    "from sklearn.model_selection import train_test_split\n",
    "from sklearn.ensemble import RandomForestClassifier\n",
    "from sklearn.model_selection import GridSearchCV\n",
    "from sklearn.metrics import accuracy_score\n",
    "from sklearn.metrics import confusion_matrix\n",
    "import seaborn as sn\n",
    "import pickle"
   ]
  },
  {
   "cell_type": "code",
   "execution_count": 2,
   "metadata": {},
   "outputs": [
    {
     "data": {
      "text/plain": [
       "((145, 4), (145, 5))"
      ]
     },
     "execution_count": 2,
     "metadata": {},
     "output_type": "execute_result"
    }
   ],
   "source": [
    "x_test = np.load('/home/jongli/Dropbox/project/NBM/test_x.npy')\n",
    "y_test = np.load('/home/jongli/Dropbox/project/NBM/test_y.npy')\n",
    "x_test.shape, y_test.shape"
   ]
  },
  {
   "cell_type": "code",
   "execution_count": 3,
   "metadata": {},
   "outputs": [],
   "source": [
    "file1 = '/home/jongli/Dropbox/project/NBM/Random/model/random_knn.sav'\n",
    "\n",
    "smote = pickle.load(open(file1, 'rb'))"
   ]
  },
  {
   "cell_type": "code",
   "execution_count": 4,
   "metadata": {},
   "outputs": [
    {
     "data": {
      "text/plain": [
       "(145,)"
      ]
     },
     "execution_count": 4,
     "metadata": {},
     "output_type": "execute_result"
    }
   ],
   "source": [
    "knn_pred = smote.predict(x_test)\n",
    "knn_pred = knn_pred.argmax(axis = 1)\n",
    "knn_pred.shape\n"
   ]
  },
  {
   "cell_type": "code",
   "execution_count": 5,
   "metadata": {},
   "outputs": [
    {
     "name": "stdout",
     "output_type": "stream",
     "text": [
      "0.8344827586206897\n",
      "(0.8712257975290428, 0.8344827586206897, 0.8403703746917986, None)\n"
     ]
    }
   ],
   "source": [
    "\n",
    "knn_test = accuracy_score(y_test.argmax(axis = 1), knn_pred)\n",
    "print(knn_test)\n",
    "\n",
    "from sklearn.metrics import precision_recall_fscore_support\n",
    "knn = precision_recall_fscore_support(y_test.argmax(axis = 1), knn_pred, average='weighted')\n",
    "print(knn)"
   ]
  },
  {
   "cell_type": "code",
   "execution_count": 6,
   "metadata": {},
   "outputs": [],
   "source": [
    "file2 = '/home/jongli/Dropbox/project/NBM/Random/model/random_rf.sav'\n",
    "smoterf = pickle.load(open(file2, 'rb'))"
   ]
  },
  {
   "cell_type": "code",
   "execution_count": 7,
   "metadata": {},
   "outputs": [
    {
     "name": "stdout",
     "output_type": "stream",
     "text": [
      "(145,)\n",
      "0.8137931034482758\n",
      "(0.8737332241080367, 0.8137931034482758, 0.8229275838271342, None)\n"
     ]
    }
   ],
   "source": [
    "rf_pred = smoterf.predict(x_test)\n",
    "rf_pred = rf_pred.argmax(axis = 1)\n",
    "print(rf_pred.shape)\n",
    "\n",
    "\n",
    "rf_test = accuracy_score(y_test.argmax(axis = 1), rf_pred)\n",
    "print(rf_test)\n",
    "from sklearn.metrics import precision_recall_fscore_support\n",
    "rf = precision_recall_fscore_support(y_test.argmax(axis = 1), rf_pred, average='weighted')\n",
    "print(rf)"
   ]
  },
  {
   "cell_type": "code",
   "execution_count": 8,
   "metadata": {},
   "outputs": [],
   "source": [
    "file2 = '/home/jongli/Dropbox/project/NBM/Random/model/random_svm.sav'\n",
    "smotesvm = pickle.load(open(file2, 'rb'))"
   ]
  },
  {
   "cell_type": "code",
   "execution_count": 9,
   "metadata": {},
   "outputs": [
    {
     "name": "stdout",
     "output_type": "stream",
     "text": [
      "(145,)\n",
      "0.8689655172413793\n",
      "(0.898145235756674, 0.8689655172413793, 0.873964879757514, None)\n"
     ]
    }
   ],
   "source": [
    "svm_pred = smotesvm.predict(x_test)\n",
    "#svm_pred = svm_pred.argmax(axis = 1)\n",
    "print(svm_pred.shape)\n",
    "\n",
    "\n",
    "svm_test = accuracy_score(y_test.argmax(axis = 1), svm_pred)\n",
    "print(svm_test)\n",
    "from sklearn.metrics import precision_recall_fscore_support\n",
    "svm = precision_recall_fscore_support(y_test.argmax(axis = 1), svm_pred, average='weighted')\n",
    "print(svm)"
   ]
  },
  {
   "cell_type": "code",
   "execution_count": null,
   "metadata": {},
   "outputs": [],
   "source": []
  }
 ],
 "metadata": {
  "kernelspec": {
   "display_name": "Python 3",
   "language": "python",
   "name": "python3"
  },
  "language_info": {
   "codemirror_mode": {
    "name": "ipython",
    "version": 3
   },
   "file_extension": ".py",
   "mimetype": "text/x-python",
   "name": "python",
   "nbconvert_exporter": "python",
   "pygments_lexer": "ipython3",
   "version": "3.6.8"
  }
 },
 "nbformat": 4,
 "nbformat_minor": 2
}
