{
 "cells": [
  {
   "cell_type": "code",
   "execution_count": 1,
   "metadata": {},
   "outputs": [],
   "source": [
    "import pandas as pd\n",
    "import matplotlib.pyplot as plt\n",
    "import numpy as np\n",
    "from sklearn import preprocessing\n",
    "from imblearn.over_sampling import SMOTE\n",
    "from sklearn.neighbors import KNeighborsClassifier\n",
    "from sklearn.model_selection import cross_val_score\n",
    "from sklearn.model_selection import train_test_split\n",
    "from sklearn.ensemble import RandomForestClassifier\n",
    "from sklearn.model_selection import GridSearchCV\n",
    "from sklearn.metrics import accuracy_score\n",
    "from sklearn.metrics import confusion_matrix\n",
    "import seaborn as sn\n",
    "import pickle"
   ]
  },
  {
   "cell_type": "code",
   "execution_count": 2,
   "metadata": {},
   "outputs": [
    {
     "data": {
      "text/plain": [
       "((140, 4), (140,))"
      ]
     },
     "execution_count": 2,
     "metadata": {},
     "output_type": "execute_result"
    }
   ],
   "source": [
    "x_test = np.load('/home/jongli/Dropbox/project/NBM/test_x_new.npy')\n",
    "y_test = np.load('/home/jongli/Dropbox/project/NBM/test_y_new.npy')\n",
    "x_test.shape, y_test.shape"
   ]
  },
  {
   "cell_type": "code",
   "execution_count": 3,
   "metadata": {},
   "outputs": [],
   "source": [
    "file1 = '/home/jongli/Dropbox/project/NBM/SMOTE/model/smote_knn.sav'\n",
    "\n",
    "smote = pickle.load(open(file1, 'rb'))"
   ]
  },
  {
   "cell_type": "code",
   "execution_count": 4,
   "metadata": {},
   "outputs": [
    {
     "data": {
      "text/plain": [
       "(140, 5)"
      ]
     },
     "execution_count": 4,
     "metadata": {},
     "output_type": "execute_result"
    }
   ],
   "source": [
    "knn_pred = smote.predict(x_test)\n",
    "knn_pred.shape\n"
   ]
  },
  {
   "cell_type": "code",
   "execution_count": 5,
   "metadata": {},
   "outputs": [
    {
     "data": {
      "text/plain": [
       "(140,)"
      ]
     },
     "execution_count": 5,
     "metadata": {},
     "output_type": "execute_result"
    }
   ],
   "source": [
    "knn_pred = knn_pred.argmax(axis = 1)\n",
    "knn_pred.shape"
   ]
  },
  {
   "cell_type": "code",
   "execution_count": 6,
   "metadata": {},
   "outputs": [
    {
     "name": "stdout",
     "output_type": "stream",
     "text": [
      "0.7785714285714286\n"
     ]
    }
   ],
   "source": [
    "knn_test = accuracy_score(y_test, knn_pred)\n",
    "print(knn_test)"
   ]
  },
  {
   "cell_type": "code",
   "execution_count": 7,
   "metadata": {},
   "outputs": [
    {
     "data": {
      "text/plain": [
       "(0.7816992337164751, 0.7785714285714286, 0.7787969065029641, None)"
      ]
     },
     "execution_count": 7,
     "metadata": {},
     "output_type": "execute_result"
    }
   ],
   "source": [
    "from sklearn.metrics import precision_recall_fscore_support\n",
    "precision_recall_fscore_support(y_test, knn_pred, average='weighted')\n"
   ]
  },
  {
   "cell_type": "code",
   "execution_count": 8,
   "metadata": {},
   "outputs": [],
   "source": [
    "file2 = '/home/jongli/Dropbox/project/NBM/SMOTE/model/smote_rf.sav'\n",
    "smoterf = pickle.load(open(file2, 'rb'))"
   ]
  },
  {
   "cell_type": "code",
   "execution_count": 9,
   "metadata": {},
   "outputs": [
    {
     "name": "stdout",
     "output_type": "stream",
     "text": [
      "(140,)\n",
      "0.8071428571428572\n",
      "(0.8175747114036034, 0.8071428571428572, 0.8069147259077468, None)\n"
     ]
    }
   ],
   "source": [
    "rf_pred = smoterf.predict(x_test)\n",
    "rf_pred = rf_pred.argmax(axis = 1)\n",
    "print(rf_pred.shape)\n",
    "\n",
    "\n",
    "rf_test = accuracy_score(y_test, rf_pred)\n",
    "print(rf_test)\n",
    "from sklearn.metrics import precision_recall_fscore_support\n",
    "rf = precision_recall_fscore_support(y_test, rf_pred, average='weighted')\n",
    "print(rf)"
   ]
  },
  {
   "cell_type": "code",
   "execution_count": 11,
   "metadata": {},
   "outputs": [],
   "source": [
    "file2 = '/home/jongli/Dropbox/project/NBM/SMOTE/model/smote_svm.sav'\n",
    "smotesvm = pickle.load(open(file2, 'rb'))"
   ]
  },
  {
   "cell_type": "code",
   "execution_count": 12,
   "metadata": {},
   "outputs": [
    {
     "name": "stdout",
     "output_type": "stream",
     "text": [
      "(140,)\n",
      "0.8642857142857143\n",
      "(0.8655255217324183, 0.8642857142857143, 0.8643398552109985, None)\n"
     ]
    }
   ],
   "source": [
    "svm_pred = smotesvm.predict(x_test)\n",
    "#svm_pred = svm_pred.argmax(axis = 1)\n",
    "print(svm_pred.shape)\n",
    "\n",
    "\n",
    "svm_test = accuracy_score(y_test, svm_pred)\n",
    "print(svm_test)\n",
    "from sklearn.metrics import precision_recall_fscore_support\n",
    "svm = precision_recall_fscore_support(y_test, svm_pred, average='weighted')\n",
    "print(svm)"
   ]
  },
  {
   "cell_type": "code",
   "execution_count": 13,
   "metadata": {},
   "outputs": [
    {
     "name": "stdout",
     "output_type": "stream",
     "text": [
      "sesh r nai!\n"
     ]
    }
   ],
   "source": [
    "print('sesh r nai!')"
   ]
  },
  {
   "cell_type": "code",
   "execution_count": null,
   "metadata": {},
   "outputs": [],
   "source": []
  }
 ],
 "metadata": {
  "kernelspec": {
   "display_name": "Python 3",
   "language": "python",
   "name": "python3"
  },
  "language_info": {
   "codemirror_mode": {
    "name": "ipython",
    "version": 3
   },
   "file_extension": ".py",
   "mimetype": "text/x-python",
   "name": "python",
   "nbconvert_exporter": "python",
   "pygments_lexer": "ipython3",
   "version": "3.6.8"
  }
 },
 "nbformat": 4,
 "nbformat_minor": 2
}
