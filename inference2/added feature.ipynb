{
 "cells": [
  {
   "cell_type": "code",
   "execution_count": 1,
   "metadata": {},
   "outputs": [],
   "source": [
    "import numpy as np\n",
    "import pandas as pd"
   ]
  },
  {
   "cell_type": "code",
   "execution_count": 2,
   "metadata": {},
   "outputs": [],
   "source": [
    "thana = {'Alfadanga Thana': 0, 'Araihazar Thana': 1, \n",
    "         'Ashulia Thana': 2, 'Austagram Thana': 3, 'Bajitpur Thana': 4, 'Baliakandi Thana': 5, \n",
    "         'Bangabandhu Setu East Thana': 6, 'Basail Thana': 7, \n",
    "         'Belabo Thana': 8, 'Bhairab Thana': 9, 'Bhanga Thana': 10, 'Bhedarganj Thana': 11, 'Bhuapur Thana': 12, \n",
    "         'Boalmari Thana': 13, 'Bondor Thana': 14, 'Charbhadrasan Thana': 15, 'Damudya Thana': 16, 'Dasar Thana': 17, \n",
    "         'Daulatpur Thana': 18, 'Delduar Thana': 19, 'Dhamrai Thana': 20, 'Dhanbari Thana': 21, 'Dohar Thana': 22, \n",
    "         'Faridpur Thana': 23, 'Fatullah Model Thana': 24, 'Gazaria Thana': 25, 'Ghatail Thana': 26, 'Ghior Thana': 27, \n",
    "         'Goalandaghat Thana': 28,\n",
    "         'Gopalganj Thana': 29, 'Gopalpur Thana': 30, 'Goshairhat Thana': 31, 'Harirampur Thana': 32,\n",
    "         'Hossainpur Thana': 33, 'Itna Thana': 34, 'Joydebpur Thana': 35, 'Kaliakair Thana': 36,\n",
    "         'Kaliganj Thana': 37,\n",
    "         'Kalihati Thana': 38, 'Kalkini Thana': 39, 'Kalukhali Thana': 40, 'Kapasia Thana': 41,\n",
    "         'Karimganj Thana': 42, \n",
    "         'Kashiani Thana': 43, 'Katiadi Model Thana': 44, 'Keraniganj Model Thana': 45,\n",
    "         'Kishoreganj Model Thana': 46, \n",
    "         'Kotalipara Thana': 47, 'Kotwali Thana': 48, 'Kuliarchar Thana': 49, 'Louhajong Thana': 50, \n",
    "         'Madaripur Thana': 51, 'Madhabdi Thana': 52, 'Madhukhali Thana': 53, 'Madhupur Thana': 54,\n",
    "         'Manikganj Thana': 55, 'Mirzapur Thana': 56, 'Mithamain Thana': 57, 'Monohardi Thana': 58, \n",
    "         'Muksudpur Thana': 59, 'Munshiganj Thana': 60, 'Nagarkanda Model Thana': 61, 'Nagarpur Thana': 62, \n",
    "         'Narayanganj Model Thana': 63, 'Naria Thana': 64, 'Narsingdi Model Thana': 65, 'Narsingdi Thana': 66,\n",
    "         'Nawabganj Thana': 67, 'Nikli Thana': 68, 'Pakundia Thana': 69, 'Palash Thana': 70,\n",
    "         'Palong Model Thana': 71, 'Pangsha Model Thana': 72, 'Raipura Thana': 73, 'Rajbari Thana': 74, \n",
    "         'Rajoir Thana': 75, 'Rupganj Thana': 76, 'Sadarpur Thana': 77, 'Sakhipur Thana': 78, \n",
    "         'Saltha Thana': 79, 'Saturia Thana': 80, 'Savar Model Thana': 81, 'Shibaloy Thana': 82,\n",
    "         'Shibchar Thana': 83, 'Shibpur Model Thana': 84, 'Siddhirganj Thana': 85, 'Singair Thana': 86,\n",
    "         'Sirajdikhan Thana': 87, 'Sonargaon Thana': 88, 'South Keraniganj Thana': 89, \n",
    "         'Sreenagar Thana': 90, 'Sreepur Thana': 91, 'Tangail Thana': 92, 'Tarail Thana': 93, \n",
    "         'Tongi Thana': 94, 'Tongibari Thana': 95, 'Tungipara Thana': 96, 'Zajira Thana': 97}"
   ]
  },
  {
   "cell_type": "code",
   "execution_count": 3,
   "metadata": {},
   "outputs": [],
   "source": [
    "district = {'Dhaka': 0,\n",
    " 'Faridpur': 1,\n",
    " 'Gazipur': 2,\n",
    " 'Gopalganj': 3,\n",
    " 'Kishoreganj': 4,\n",
    " 'Madaripur': 5,\n",
    " 'Manikganj': 6,\n",
    " 'Munshiganj': 7,\n",
    " 'Narayanganj': 8,\n",
    " 'Narsingdi': 9,\n",
    " 'Rajbari': 10,\n",
    " 'Shariatpur': 11,\n",
    " 'Tangail': 12}"
   ]
  },
  {
   "cell_type": "code",
   "execution_count": 4,
   "metadata": {},
   "outputs": [],
   "source": [
    "dow = {'Friday': 0, 'Monday': 1, 'Saturday': 2, 'Sunday': 3, 'Thursday': 4, 'Tuesday': 5, 'Wednesday': 6}"
   ]
  },
  {
   "cell_type": "code",
   "execution_count": 5,
   "metadata": {},
   "outputs": [],
   "source": [
    "month = {'January': 1,'February': 2,'March': 3,'April': 4,'May': 5,'June': 6,\n",
    "         'July': 7,'August': 8,'September': 9,'October': 10,'November': 11, 'December': 12}"
   ]
  },
  {
   "cell_type": "code",
   "execution_count": 6,
   "metadata": {},
   "outputs": [
    {
     "data": {
      "text/plain": [
       "((140, 4), (140,))"
      ]
     },
     "execution_count": 6,
     "metadata": {},
     "output_type": "execute_result"
    }
   ],
   "source": [
    "x_test = np.load('/home/jongli/Dropbox/project/NBM/test_x_new.npy')\n",
    "y_test = np.load('/home/jongli/Dropbox/project/NBM/test_y_new.npy')\n",
    "x_test.shape, y_test.shape"
   ]
  },
  {
   "cell_type": "code",
   "execution_count": 7,
   "metadata": {},
   "outputs": [
    {
     "data": {
      "text/html": [
       "<div>\n",
       "<style scoped>\n",
       "    .dataframe tbody tr th:only-of-type {\n",
       "        vertical-align: middle;\n",
       "    }\n",
       "\n",
       "    .dataframe tbody tr th {\n",
       "        vertical-align: top;\n",
       "    }\n",
       "\n",
       "    .dataframe thead th {\n",
       "        text-align: right;\n",
       "    }\n",
       "</style>\n",
       "<table border=\"1\" class=\"dataframe\">\n",
       "  <thead>\n",
       "    <tr style=\"text-align: right;\">\n",
       "      <th></th>\n",
       "      <th>Index</th>\n",
       "      <th>Ground truth</th>\n",
       "      <th>rf_raw</th>\n",
       "      <th>rf_smote</th>\n",
       "      <th>rf_random</th>\n",
       "    </tr>\n",
       "  </thead>\n",
       "  <tbody>\n",
       "    <tr>\n",
       "      <th>0</th>\n",
       "      <td>0</td>\n",
       "      <td>Violence Against Women</td>\n",
       "      <td>False</td>\n",
       "      <td>True</td>\n",
       "      <td>True</td>\n",
       "    </tr>\n",
       "    <tr>\n",
       "      <th>1</th>\n",
       "      <td>1</td>\n",
       "      <td>Violence Against Women</td>\n",
       "      <td>False</td>\n",
       "      <td>True</td>\n",
       "      <td>True</td>\n",
       "    </tr>\n",
       "    <tr>\n",
       "      <th>2</th>\n",
       "      <td>2</td>\n",
       "      <td>Violence Against Women</td>\n",
       "      <td>False</td>\n",
       "      <td>True</td>\n",
       "      <td>True</td>\n",
       "    </tr>\n",
       "    <tr>\n",
       "      <th>3</th>\n",
       "      <td>3</td>\n",
       "      <td>Violence Against Women</td>\n",
       "      <td>False</td>\n",
       "      <td>True</td>\n",
       "      <td>True</td>\n",
       "    </tr>\n",
       "    <tr>\n",
       "      <th>4</th>\n",
       "      <td>4</td>\n",
       "      <td>Violence Against Women</td>\n",
       "      <td>False</td>\n",
       "      <td>True</td>\n",
       "      <td>True</td>\n",
       "    </tr>\n",
       "  </tbody>\n",
       "</table>\n",
       "</div>"
      ],
      "text/plain": [
       "   Index            Ground truth  rf_raw  rf_smote  rf_random\n",
       "0      0  Violence Against Women   False      True       True\n",
       "1      1  Violence Against Women   False      True       True\n",
       "2      2  Violence Against Women   False      True       True\n",
       "3      3  Violence Against Women   False      True       True\n",
       "4      4  Violence Against Women   False      True       True"
      ]
     },
     "execution_count": 7,
     "metadata": {},
     "output_type": "execute_result"
    }
   ],
   "source": [
    "df1 = pd.read_csv('/home/jongli/Dropbox/project/NBM/inference2/rf_new.csv')\n",
    "df1.head()"
   ]
  },
  {
   "cell_type": "code",
   "execution_count": 8,
   "metadata": {},
   "outputs": [
    {
     "name": "stdout",
     "output_type": "stream",
     "text": [
      "140\n",
      "   Index            Ground truth  rf_raw  rf_smote  rf_random  \\\n",
      "0      0  Violence Against Women   False      True       True   \n",
      "1      1  Violence Against Women   False      True       True   \n",
      "2      2  Violence Against Women   False      True       True   \n",
      "3      3  Violence Against Women   False      True       True   \n",
      "4      4  Violence Against Women   False      True       True   \n",
      "\n",
      "   Police Station num  \n",
      "0                   9  \n",
      "1                  76  \n",
      "2                   2  \n",
      "3                  84  \n",
      "4                  64  \n"
     ]
    }
   ],
   "source": [
    "list_thana = []\n",
    "\n",
    "for i in range(len(y_test)):\n",
    "    list_thana.append(x_test[i,0])\n",
    "\n",
    "print(len(list_thana))\n",
    "\n",
    "df1['Police Station num'] = list_thana\n",
    "print(df1.head())"
   ]
  },
  {
   "cell_type": "code",
   "execution_count": 9,
   "metadata": {},
   "outputs": [
    {
     "name": "stdout",
     "output_type": "stream",
     "text": [
      "140\n",
      "   Index            Ground truth  rf_raw  rf_smote  rf_random  \\\n",
      "0      0  Violence Against Women   False      True       True   \n",
      "1      1  Violence Against Women   False      True       True   \n",
      "2      2  Violence Against Women   False      True       True   \n",
      "3      3  Violence Against Women   False      True       True   \n",
      "4      4  Violence Against Women   False      True       True   \n",
      "\n",
      "   Police Station num  District num  \n",
      "0                   9             4  \n",
      "1                  76             8  \n",
      "2                   2             0  \n",
      "3                  84             9  \n",
      "4                  64            11  \n"
     ]
    }
   ],
   "source": [
    "list_district = []\n",
    "for i in range(len(y_test)):\n",
    "    list_district.append(x_test[i,1])\n",
    "\n",
    "print(len(list_district))\n",
    "\n",
    "\n",
    "df1['District num'] = list_district\n",
    "print(df1.head())"
   ]
  },
  {
   "cell_type": "code",
   "execution_count": 10,
   "metadata": {},
   "outputs": [
    {
     "name": "stdout",
     "output_type": "stream",
     "text": [
      "140\n",
      "   Index            Ground truth  rf_raw  rf_smote  rf_random  \\\n",
      "0      0  Violence Against Women   False      True       True   \n",
      "1      1  Violence Against Women   False      True       True   \n",
      "2      2  Violence Against Women   False      True       True   \n",
      "3      3  Violence Against Women   False      True       True   \n",
      "4      4  Violence Against Women   False      True       True   \n",
      "\n",
      "   Police Station num  District num  DayOfWeek num  \n",
      "0                   9             4              5  \n",
      "1                  76             8              6  \n",
      "2                   2             0              6  \n",
      "3                  84             9              1  \n",
      "4                  64            11              0  \n"
     ]
    }
   ],
   "source": [
    "list_dow = []\n",
    "for i in range(len(y_test)):\n",
    "    list_dow.append(x_test[i,2])\n",
    "print(len(list_dow))\n",
    "\n",
    "df1['DayOfWeek num'] = list_dow\n",
    "print(df1.head())"
   ]
  },
  {
   "cell_type": "code",
   "execution_count": 11,
   "metadata": {},
   "outputs": [
    {
     "name": "stdout",
     "output_type": "stream",
     "text": [
      "140\n",
      "   Index            Ground truth  rf_raw  rf_smote  rf_random  \\\n",
      "0      0  Violence Against Women   False      True       True   \n",
      "1      1  Violence Against Women   False      True       True   \n",
      "2      2  Violence Against Women   False      True       True   \n",
      "3      3  Violence Against Women   False      True       True   \n",
      "4      4  Violence Against Women   False      True       True   \n",
      "\n",
      "   Police Station num  District num  DayOfWeek num  Month num  \n",
      "0                   9             4              5          6  \n",
      "1                  76             8              6          2  \n",
      "2                   2             0              6          5  \n",
      "3                  84             9              1          1  \n",
      "4                  64            11              0          6  \n"
     ]
    }
   ],
   "source": [
    "list_month = []\n",
    "for i in range(len(y_test)):\n",
    "    list_month.append(x_test[i,3])\n",
    "print(len(list_month))\n",
    "\n",
    "df1['Month num'] = list_month\n",
    "print(df1.head())"
   ]
  },
  {
   "cell_type": "code",
   "execution_count": 12,
   "metadata": {},
   "outputs": [
    {
     "name": "stdout",
     "output_type": "stream",
     "text": [
      "140\n",
      "   Index            Ground truth  rf_raw  rf_smote  rf_random  \\\n",
      "0      0  Violence Against Women   False      True       True   \n",
      "1      1  Violence Against Women   False      True       True   \n",
      "2      2  Violence Against Women   False      True       True   \n",
      "3      3  Violence Against Women   False      True       True   \n",
      "4      4  Violence Against Women   False      True       True   \n",
      "\n",
      "   Police Station num  District num  DayOfWeek num  Month num  \\\n",
      "0                   9             4              5          6   \n",
      "1                  76             8              6          2   \n",
      "2                   2             0              6          5   \n",
      "3                  84             9              1          1   \n",
      "4                  64            11              0          6   \n",
      "\n",
      "        Police Station  \n",
      "0        Bhairab Thana  \n",
      "1        Rupganj Thana  \n",
      "2        Ashulia Thana  \n",
      "3  Shibpur Model Thana  \n",
      "4          Naria Thana  \n"
     ]
    }
   ],
   "source": [
    "thana_list = []\n",
    "\n",
    "for i in range(len(df1['Police Station num'])):\n",
    "    for name, tag in thana.items():\n",
    "        if tag == list_thana[i]:\n",
    "            thana_list.append(name)\n",
    "            \n",
    "        \n",
    "print(len(thana_list))    \n",
    "df1['Police Station'] = thana_list\n",
    "print(df1.head())"
   ]
  },
  {
   "cell_type": "code",
   "execution_count": 13,
   "metadata": {},
   "outputs": [
    {
     "name": "stdout",
     "output_type": "stream",
     "text": [
      "140\n",
      "   Index            Ground truth  rf_raw  rf_smote  rf_random  \\\n",
      "0      0  Violence Against Women   False      True       True   \n",
      "1      1  Violence Against Women   False      True       True   \n",
      "2      2  Violence Against Women   False      True       True   \n",
      "3      3  Violence Against Women   False      True       True   \n",
      "4      4  Violence Against Women   False      True       True   \n",
      "\n",
      "   Police Station num  District num  DayOfWeek num  Month num  \\\n",
      "0                   9             4              5          6   \n",
      "1                  76             8              6          2   \n",
      "2                   2             0              6          5   \n",
      "3                  84             9              1          1   \n",
      "4                  64            11              0          6   \n",
      "\n",
      "        Police Station     District  \n",
      "0        Bhairab Thana  Kishoreganj  \n",
      "1        Rupganj Thana  Narayanganj  \n",
      "2        Ashulia Thana        Dhaka  \n",
      "3  Shibpur Model Thana    Narsingdi  \n",
      "4          Naria Thana   Shariatpur  \n"
     ]
    }
   ],
   "source": [
    "district_list = []\n",
    "\n",
    "for i in range(len(df1['District num'])):\n",
    "    for name, tag in district.items():\n",
    "        if tag == list_district[i]:\n",
    "            district_list.append(name)\n",
    "            \n",
    "        \n",
    "print(len(district_list))    \n",
    "df1['District'] = district_list\n",
    "print(df1.head())"
   ]
  },
  {
   "cell_type": "code",
   "execution_count": 14,
   "metadata": {},
   "outputs": [
    {
     "name": "stdout",
     "output_type": "stream",
     "text": [
      "140\n",
      "   Index            Ground truth  rf_raw  rf_smote  rf_random  \\\n",
      "0      0  Violence Against Women   False      True       True   \n",
      "1      1  Violence Against Women   False      True       True   \n",
      "2      2  Violence Against Women   False      True       True   \n",
      "3      3  Violence Against Women   False      True       True   \n",
      "4      4  Violence Against Women   False      True       True   \n",
      "\n",
      "   Police Station num  District num  DayOfWeek num  Month num  \\\n",
      "0                   9             4              5          6   \n",
      "1                  76             8              6          2   \n",
      "2                   2             0              6          5   \n",
      "3                  84             9              1          1   \n",
      "4                  64            11              0          6   \n",
      "\n",
      "        Police Station     District  DayOfWeek  \n",
      "0        Bhairab Thana  Kishoreganj    Tuesday  \n",
      "1        Rupganj Thana  Narayanganj  Wednesday  \n",
      "2        Ashulia Thana        Dhaka  Wednesday  \n",
      "3  Shibpur Model Thana    Narsingdi     Monday  \n",
      "4          Naria Thana   Shariatpur     Friday  \n"
     ]
    }
   ],
   "source": [
    "dow_list = []\n",
    "\n",
    "for i in range(len(df1['District num'])):\n",
    "    for name, tag in dow.items():\n",
    "        if tag == list_dow[i]:\n",
    "            dow_list.append(name)\n",
    "            \n",
    "        \n",
    "print(len(dow_list))    \n",
    "df1['DayOfWeek'] = dow_list\n",
    "print(df1.head())"
   ]
  },
  {
   "cell_type": "code",
   "execution_count": 15,
   "metadata": {},
   "outputs": [
    {
     "name": "stdout",
     "output_type": "stream",
     "text": [
      "140\n",
      "   Index            Ground truth  rf_raw  rf_smote  rf_random  \\\n",
      "0      0  Violence Against Women   False      True       True   \n",
      "1      1  Violence Against Women   False      True       True   \n",
      "2      2  Violence Against Women   False      True       True   \n",
      "3      3  Violence Against Women   False      True       True   \n",
      "4      4  Violence Against Women   False      True       True   \n",
      "\n",
      "   Police Station num  District num  DayOfWeek num  Month num  \\\n",
      "0                   9             4              5          6   \n",
      "1                  76             8              6          2   \n",
      "2                   2             0              6          5   \n",
      "3                  84             9              1          1   \n",
      "4                  64            11              0          6   \n",
      "\n",
      "        Police Station     District  DayOfWeek     Month  \n",
      "0        Bhairab Thana  Kishoreganj    Tuesday      June  \n",
      "1        Rupganj Thana  Narayanganj  Wednesday  February  \n",
      "2        Ashulia Thana        Dhaka  Wednesday       May  \n",
      "3  Shibpur Model Thana    Narsingdi     Monday   January  \n",
      "4          Naria Thana   Shariatpur     Friday      June  \n"
     ]
    }
   ],
   "source": [
    "month_list = []\n",
    "\n",
    "for i in range(len(df1['District num'])):\n",
    "    for name, tag in month.items():\n",
    "        if tag == list_month[i]:\n",
    "            month_list.append(name)\n",
    "            \n",
    "        \n",
    "print(len(month_list))    \n",
    "df1['Month'] = month_list\n",
    "print(df1.head())"
   ]
  },
  {
   "cell_type": "code",
   "execution_count": 16,
   "metadata": {},
   "outputs": [],
   "source": [
    "df1.to_csv('rf_new_with_features.csv')"
   ]
  },
  {
   "cell_type": "code",
   "execution_count": 17,
   "metadata": {},
   "outputs": [
    {
     "name": "stdout",
     "output_type": "stream",
     "text": [
      "Sesh r nai!\n"
     ]
    }
   ],
   "source": [
    "print(\"Sesh r nai!\")"
   ]
  },
  {
   "cell_type": "code",
   "execution_count": null,
   "metadata": {},
   "outputs": [],
   "source": []
  }
 ],
 "metadata": {
  "kernelspec": {
   "display_name": "Python 3",
   "language": "python",
   "name": "python3"
  },
  "language_info": {
   "codemirror_mode": {
    "name": "ipython",
    "version": 3
   },
   "file_extension": ".py",
   "mimetype": "text/x-python",
   "name": "python",
   "nbconvert_exporter": "python",
   "pygments_lexer": "ipython3",
   "version": "3.6.8"
  }
 },
 "nbformat": 4,
 "nbformat_minor": 2
}
